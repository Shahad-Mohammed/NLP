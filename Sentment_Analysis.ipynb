{
  "cells": [
    {
      "cell_type": "markdown",
      "metadata": {
        "id": "view-in-github",
        "colab_type": "text"
      },
      "source": [
        "<a href=\"https://colab.research.google.com/github/Shahad-Mohammed/NLP/blob/main/Sentment_Analysis.ipynb\" target=\"_parent\"><img src=\"https://colab.research.google.com/assets/colab-badge.svg\" alt=\"Open In Colab\"/></a>"
      ]
    },
    {
      "cell_type": "code",
      "execution_count": null,
      "metadata": {
        "id": "txtIHZ5lykdN",
        "colab": {
          "base_uri": "https://localhost:8080/"
        },
        "outputId": "376f9960-5f3d-460d-a053-9d744ea53456"
      },
      "outputs": [
        {
          "output_type": "stream",
          "name": "stderr",
          "text": [
            "[nltk_data] Downloading package punkt to /root/nltk_data...\n",
            "[nltk_data]   Unzipping tokenizers/punkt.zip.\n",
            "[nltk_data] Downloading package stopwords to /root/nltk_data...\n",
            "[nltk_data]   Unzipping corpora/stopwords.zip.\n",
            "[nltk_data] Downloading package averaged_perceptron_tagger to\n",
            "[nltk_data]     /root/nltk_data...\n",
            "[nltk_data]   Unzipping taggers/averaged_perceptron_tagger.zip.\n"
          ]
        },
        {
          "output_type": "execute_result",
          "data": {
            "text/plain": [
              "True"
            ]
          },
          "metadata": {},
          "execution_count": 1
        }
      ],
      "source": [
        "import numpy as np\n",
        "import pandas as pd\n",
        "import nltk as nltk\n",
        "import re\n",
        "\n",
        "from nltk.tokenize import word_tokenize\n",
        "nltk.download('punkt')\n",
        "\n",
        "from nltk.corpus import stopwords\n",
        "nltk.download('stopwords')\n",
        "\n",
        "from nltk.stem.snowball import SnowballStemmer\n",
        "\n",
        "from nltk import pos_tag\n",
        "nltk.download('averaged_perceptron_tagger')"
      ]
    },
    {
      "cell_type": "code",
      "execution_count": null,
      "metadata": {
        "id": "bOg0epuBVOPM"
      },
      "outputs": [],
      "source": [
        "pd.set_option('display.max_colwidth', 500)   # set the column width in the output to 500 charachters"
      ]
    },
    {
      "cell_type": "markdown",
      "metadata": {
        "id": "iVV2lwn7z6fj"
      },
      "source": [
        "# Load and Explor Data"
      ]
    },
    {
      "cell_type": "code",
      "execution_count": null,
      "metadata": {
        "id": "Hez_PEV8Iuvi"
      },
      "outputs": [],
      "source": [
        "\n",
        "# read talbat reviews only the first  32073 rows.\n",
        "# .iloc to delete the first and last column\n",
        "reviews_df = pd.read_csv(\"https://drive.google.com/u/0/uc?id=1DrtPc0NLOv7hvIxlyCuFiQZIudSeeFy4&export=download\", nrows=32073).iloc[: , 1:-1]\n",
        "\n",
        "# rename the columns\n",
        "reviews_df.columns = ['description','rating']"
      ]
    },
    {
      "cell_type": "code",
      "execution_count": null,
      "metadata": {
        "colab": {
          "base_uri": "https://localhost:8080/",
          "height": 206
        },
        "id": "eP729FK4UyGj",
        "outputId": "225f3763-3077-412c-c6ad-94c4e9fc4701"
      },
      "outputs": [
        {
          "output_type": "execute_result",
          "data": {
            "text/plain": [
              "                                                                            description  \\\n",
              "0                                                                                  رائع   \n",
              "1                                  برنامج رائع جدا يساعد على تلبيه الاحتياجات بشكل اسرع   \n",
              "2  التطبيق لا يغتح دائما بيعطيني لا يوجد اتصال بالشبكة..مع انه النت عندي تمام شو الحل??   \n",
              "3                                                    لماذا لا يمكننا طلب من ماكدونالدز؟   \n",
              "4           البرنامج بيظهر كل المطاعم و مغلقه مع انها بتكون فاتحه بقاله كده اكتر من شهر   \n",
              "\n",
              "   rating  \n",
              "0       1  \n",
              "1       1  \n",
              "2      -1  \n",
              "3      -1  \n",
              "4      -1  "
            ],
            "text/html": [
              "\n",
              "  <div id=\"df-2ace3f4c-7888-4060-bc76-76e310f4556c\">\n",
              "    <div class=\"colab-df-container\">\n",
              "      <div>\n",
              "<style scoped>\n",
              "    .dataframe tbody tr th:only-of-type {\n",
              "        vertical-align: middle;\n",
              "    }\n",
              "\n",
              "    .dataframe tbody tr th {\n",
              "        vertical-align: top;\n",
              "    }\n",
              "\n",
              "    .dataframe thead th {\n",
              "        text-align: right;\n",
              "    }\n",
              "</style>\n",
              "<table border=\"1\" class=\"dataframe\">\n",
              "  <thead>\n",
              "    <tr style=\"text-align: right;\">\n",
              "      <th></th>\n",
              "      <th>description</th>\n",
              "      <th>rating</th>\n",
              "    </tr>\n",
              "  </thead>\n",
              "  <tbody>\n",
              "    <tr>\n",
              "      <th>0</th>\n",
              "      <td>رائع</td>\n",
              "      <td>1</td>\n",
              "    </tr>\n",
              "    <tr>\n",
              "      <th>1</th>\n",
              "      <td>برنامج رائع جدا يساعد على تلبيه الاحتياجات بشكل اسرع</td>\n",
              "      <td>1</td>\n",
              "    </tr>\n",
              "    <tr>\n",
              "      <th>2</th>\n",
              "      <td>التطبيق لا يغتح دائما بيعطيني لا يوجد اتصال بالشبكة..مع انه النت عندي تمام شو الحل??</td>\n",
              "      <td>-1</td>\n",
              "    </tr>\n",
              "    <tr>\n",
              "      <th>3</th>\n",
              "      <td>لماذا لا يمكننا طلب من ماكدونالدز؟</td>\n",
              "      <td>-1</td>\n",
              "    </tr>\n",
              "    <tr>\n",
              "      <th>4</th>\n",
              "      <td>البرنامج بيظهر كل المطاعم و مغلقه مع انها بتكون فاتحه بقاله كده اكتر من شهر</td>\n",
              "      <td>-1</td>\n",
              "    </tr>\n",
              "  </tbody>\n",
              "</table>\n",
              "</div>\n",
              "      <button class=\"colab-df-convert\" onclick=\"convertToInteractive('df-2ace3f4c-7888-4060-bc76-76e310f4556c')\"\n",
              "              title=\"Convert this dataframe to an interactive table.\"\n",
              "              style=\"display:none;\">\n",
              "        \n",
              "  <svg xmlns=\"http://www.w3.org/2000/svg\" height=\"24px\"viewBox=\"0 0 24 24\"\n",
              "       width=\"24px\">\n",
              "    <path d=\"M0 0h24v24H0V0z\" fill=\"none\"/>\n",
              "    <path d=\"M18.56 5.44l.94 2.06.94-2.06 2.06-.94-2.06-.94-.94-2.06-.94 2.06-2.06.94zm-11 1L8.5 8.5l.94-2.06 2.06-.94-2.06-.94L8.5 2.5l-.94 2.06-2.06.94zm10 10l.94 2.06.94-2.06 2.06-.94-2.06-.94-.94-2.06-.94 2.06-2.06.94z\"/><path d=\"M17.41 7.96l-1.37-1.37c-.4-.4-.92-.59-1.43-.59-.52 0-1.04.2-1.43.59L10.3 9.45l-7.72 7.72c-.78.78-.78 2.05 0 2.83L4 21.41c.39.39.9.59 1.41.59.51 0 1.02-.2 1.41-.59l7.78-7.78 2.81-2.81c.8-.78.8-2.07 0-2.86zM5.41 20L4 18.59l7.72-7.72 1.47 1.35L5.41 20z\"/>\n",
              "  </svg>\n",
              "      </button>\n",
              "      \n",
              "  <style>\n",
              "    .colab-df-container {\n",
              "      display:flex;\n",
              "      flex-wrap:wrap;\n",
              "      gap: 12px;\n",
              "    }\n",
              "\n",
              "    .colab-df-convert {\n",
              "      background-color: #E8F0FE;\n",
              "      border: none;\n",
              "      border-radius: 50%;\n",
              "      cursor: pointer;\n",
              "      display: none;\n",
              "      fill: #1967D2;\n",
              "      height: 32px;\n",
              "      padding: 0 0 0 0;\n",
              "      width: 32px;\n",
              "    }\n",
              "\n",
              "    .colab-df-convert:hover {\n",
              "      background-color: #E2EBFA;\n",
              "      box-shadow: 0px 1px 2px rgba(60, 64, 67, 0.3), 0px 1px 3px 1px rgba(60, 64, 67, 0.15);\n",
              "      fill: #174EA6;\n",
              "    }\n",
              "\n",
              "    [theme=dark] .colab-df-convert {\n",
              "      background-color: #3B4455;\n",
              "      fill: #D2E3FC;\n",
              "    }\n",
              "\n",
              "    [theme=dark] .colab-df-convert:hover {\n",
              "      background-color: #434B5C;\n",
              "      box-shadow: 0px 1px 3px 1px rgba(0, 0, 0, 0.15);\n",
              "      filter: drop-shadow(0px 1px 2px rgba(0, 0, 0, 0.3));\n",
              "      fill: #FFFFFF;\n",
              "    }\n",
              "  </style>\n",
              "\n",
              "      <script>\n",
              "        const buttonEl =\n",
              "          document.querySelector('#df-2ace3f4c-7888-4060-bc76-76e310f4556c button.colab-df-convert');\n",
              "        buttonEl.style.display =\n",
              "          google.colab.kernel.accessAllowed ? 'block' : 'none';\n",
              "\n",
              "        async function convertToInteractive(key) {\n",
              "          const element = document.querySelector('#df-2ace3f4c-7888-4060-bc76-76e310f4556c');\n",
              "          const dataTable =\n",
              "            await google.colab.kernel.invokeFunction('convertToInteractive',\n",
              "                                                     [key], {});\n",
              "          if (!dataTable) return;\n",
              "\n",
              "          const docLinkHtml = 'Like what you see? Visit the ' +\n",
              "            '<a target=\"_blank\" href=https://colab.research.google.com/notebooks/data_table.ipynb>data table notebook</a>'\n",
              "            + ' to learn more about interactive tables.';\n",
              "          element.innerHTML = '';\n",
              "          dataTable['output_type'] = 'display_data';\n",
              "          await google.colab.output.renderOutput(dataTable, element);\n",
              "          const docLink = document.createElement('div');\n",
              "          docLink.innerHTML = docLinkHtml;\n",
              "          element.appendChild(docLink);\n",
              "        }\n",
              "      </script>\n",
              "    </div>\n",
              "  </div>\n",
              "  "
            ]
          },
          "metadata": {},
          "execution_count": 4
        }
      ],
      "source": [
        "reviews_df.head()"
      ]
    },
    {
      "cell_type": "code",
      "execution_count": null,
      "metadata": {
        "colab": {
          "base_uri": "https://localhost:8080/"
        },
        "id": "5gMcfve4eQv3",
        "outputId": "183afc69-fcb0-4689-cd64-ca72d3ded85f"
      },
      "outputs": [
        {
          "output_type": "stream",
          "name": "stdout",
          "text": [
            "<class 'pandas.core.frame.DataFrame'>\n",
            "RangeIndex: 32073 entries, 0 to 32072\n",
            "Data columns (total 2 columns):\n",
            " #   Column       Non-Null Count  Dtype \n",
            "---  ------       --------------  ----- \n",
            " 0   description  32072 non-null  object\n",
            " 1   rating       32073 non-null  int64 \n",
            "dtypes: int64(1), object(1)\n",
            "memory usage: 501.3+ KB\n"
          ]
        }
      ],
      "source": [
        "reviews_df.info()"
      ]
    },
    {
      "cell_type": "code",
      "execution_count": null,
      "metadata": {
        "colab": {
          "base_uri": "https://localhost:8080/"
        },
        "id": "5X1Z--fG7cNV",
        "outputId": "1d8b0af1-342a-42a2-f788-329514fef501"
      },
      "outputs": [
        {
          "output_type": "execute_result",
          "data": {
            "text/plain": [
              " 1    19894\n",
              "-1    10697\n",
              " 0     1482\n",
              "Name: rating, dtype: int64"
            ]
          },
          "metadata": {},
          "execution_count": 6
        }
      ],
      "source": [
        "reviews_df.rating.value_counts()"
      ]
    },
    {
      "cell_type": "markdown",
      "metadata": {
        "id": "F9LcA8r23lkc"
      },
      "source": [
        "# Remove Nan Values"
      ]
    },
    {
      "cell_type": "code",
      "execution_count": null,
      "metadata": {
        "colab": {
          "base_uri": "https://localhost:8080/"
        },
        "id": "acXZx5Omrzd8",
        "outputId": "3a565703-362b-401a-aaad-b6ba70d7fe12"
      },
      "outputs": [
        {
          "output_type": "execute_result",
          "data": {
            "text/plain": [
              "description  rating\n",
              "False        False     32072\n",
              "True         False         1\n",
              "dtype: int64"
            ]
          },
          "metadata": {},
          "execution_count": 7
        }
      ],
      "source": [
        "reviews_df.isnull().value_counts()"
      ]
    },
    {
      "cell_type": "code",
      "execution_count": null,
      "metadata": {
        "id": "wd4ney8Szqog"
      },
      "outputs": [],
      "source": [
        "# Remove Null values\n",
        "reviews_df.dropna(inplace=True)"
      ]
    },
    {
      "cell_type": "markdown",
      "metadata": {
        "id": "7IZC6Dtd2Mwf"
      },
      "source": [
        "# Remove Neutral  Rating"
      ]
    },
    {
      "cell_type": "code",
      "execution_count": null,
      "metadata": {
        "colab": {
          "base_uri": "https://localhost:8080/"
        },
        "id": "2CSuKwAnVa1I",
        "outputId": "3b79e233-d47a-4088-c545-a0ec29e4388f"
      },
      "outputs": [
        {
          "output_type": "execute_result",
          "data": {
            "text/plain": [
              " 1    19894\n",
              "-1    10696\n",
              "Name: rating, dtype: int64"
            ]
          },
          "metadata": {},
          "execution_count": 9
        }
      ],
      "source": [
        "reviews_df = reviews_df[reviews_df['rating'] != 0]\n",
        "\n",
        "reviews_df.rating.value_counts()"
      ]
    },
    {
      "cell_type": "markdown",
      "metadata": {
        "id": "D0pkealKmZzU"
      },
      "source": [
        "# Data Cleaning"
      ]
    },
    {
      "cell_type": "code",
      "execution_count": null,
      "metadata": {
        "id": "g6I8iKcLZIEB"
      },
      "outputs": [],
      "source": [
        "punctuation_re = '[?؟!٪,،@#$%&*€+-£_~\\“̯/=><.\\۰):؛}{÷%(\"\\'ًٌٍَُِّْ٠-٩]'\n",
        "\n",
        "emoji_re = re.compile(\"[\"\n",
        "        u\"\\U0001F600-\\U0001F64F\"  # emoticons\n",
        "        u\"\\U0001F300-\\U0001F5FF\"  # symbols & pictographs\n",
        "        u\"\\U0001F680-\\U0001F6FF\"  # transport & map symbols\n",
        "        u\"\\U0001F1E0-\\U0001F1FF\"  # flags (iOS)\n",
        "        u\"\\U00002702-\\U000027B0\"\n",
        "        u\"\\U000024C2-\\U0001F251\"\n",
        "        u\"\\U000024C2-\\U0001F251\"\n",
        "        u\"\\U0001f926-\\U0001f937\"\n",
        "        u\"\\U00010000-\\U0010ffff\"\n",
        "        u\"\\u2640-\\u2642\"\n",
        "        u\"\\u2600-\\u2B55\"\n",
        "        u\"\\u200d\"\n",
        "        u\"\\u23cf\"\n",
        "        u\"\\u23e9\"\n",
        "        u\"\\u231a\"\n",
        "        u\"\\ufe0f\"  # dingbats\n",
        "        u\"\\u3030\"\n",
        "        \"]+\", flags=re.UNICODE)\n",
        "\n",
        "\n",
        "stopwordsArabic = set(stopwords.words('arabic')) - set(['لا', 'ما', 'إلا', 'ليس', 'لن', 'لم', 'دون', 'غير', 'لست'])\n",
        "stopwordsArabic.update('جدا', 'الله', 'والله', 'فقط', 'صراح', 'انا', 'او')\n",
        "stemmer = SnowballStemmer(\"arabic\")"
      ]
    },
    {
      "cell_type": "code",
      "execution_count": null,
      "metadata": {
        "id": "-SeWoO3ymZKQ"
      },
      "outputs": [],
      "source": [
        "def clean_text(text):\n",
        "\n",
        "  # remove punct\n",
        "  no_punc = re.sub(punctuation_re, ' ', text)\n",
        "\n",
        "  # remove duplicated letters\n",
        "  no_duplicate = re.sub(r'([\\u0600-\\u06FF])\\1+', r'\\1', no_punc)\n",
        "\n",
        "  # remove non arabic letters and emojis\n",
        "  no_english = re.sub(r'[a-zA-Z?]', ' ', no_duplicate)\n",
        "  # re.sub(r'[^0-9\\u0600-\\u06ff\\u0750-\\u077f\\ufb50-\\ufbc1\\ufbd3-\\ufd3f\\ufd50-\\ufd8f\\ufd50-\\ufd8f\\ufe70-\\ufefc\\uFDF0-\\uFDFD.0-9]+', ' ', no_duplicate)\n",
        "\n",
        "  # tokenize\n",
        "  tokens = nltk.word_tokenize(no_english)\n",
        "\n",
        "  #Stemming\n",
        "  stemmedWords = [stemmer.stem(word) for word in tokens]\n",
        "\n",
        "  return ' '.join(stemmedWords)"
      ]
    },
    {
      "cell_type": "code",
      "execution_count": null,
      "metadata": {
        "colab": {
          "base_uri": "https://localhost:8080/",
          "height": 206
        },
        "id": "QudgtRjgrV4T",
        "outputId": "b775a0e2-eca3-491a-9c40-4dec52844d2c"
      },
      "outputs": [
        {
          "output_type": "execute_result",
          "data": {
            "text/plain": [
              "                                                                            description  \\\n",
              "0                                                                                  رائع   \n",
              "1                                  برنامج رائع جدا يساعد على تلبيه الاحتياجات بشكل اسرع   \n",
              "2  التطبيق لا يغتح دائما بيعطيني لا يوجد اتصال بالشبكة..مع انه النت عندي تمام شو الحل??   \n",
              "3                                                    لماذا لا يمكننا طلب من ماكدونالدز؟   \n",
              "4           البرنامج بيظهر كل المطاعم و مغلقه مع انها بتكون فاتحه بقاله كده اكتر من شهر   \n",
              "\n",
              "   rating  \\\n",
              "0       1   \n",
              "1       1   \n",
              "2      -1   \n",
              "3      -1   \n",
              "4      -1   \n",
              "\n",
              "                                                              clean_text  \n",
              "0                                                                   رايع  \n",
              "1                           رنامج رايع جدا يساعد على تلب احتياج شكل اسرع  \n",
              "2  تطبيق لا يغتح دايم يعط لا يوجد اتصال شبك مع انه النت عند تمام شو الحل  \n",
              "3                                          لماذ لا يمك طلب من ماكدونالدز  \n",
              "4        برنامج يظهر كل مطاعم و مغلق مع انه تكو فاتح قال كده اكتر من شهر  "
            ],
            "text/html": [
              "\n",
              "  <div id=\"df-926b82c6-e0f4-4dba-8048-451887e3f980\">\n",
              "    <div class=\"colab-df-container\">\n",
              "      <div>\n",
              "<style scoped>\n",
              "    .dataframe tbody tr th:only-of-type {\n",
              "        vertical-align: middle;\n",
              "    }\n",
              "\n",
              "    .dataframe tbody tr th {\n",
              "        vertical-align: top;\n",
              "    }\n",
              "\n",
              "    .dataframe thead th {\n",
              "        text-align: right;\n",
              "    }\n",
              "</style>\n",
              "<table border=\"1\" class=\"dataframe\">\n",
              "  <thead>\n",
              "    <tr style=\"text-align: right;\">\n",
              "      <th></th>\n",
              "      <th>description</th>\n",
              "      <th>rating</th>\n",
              "      <th>clean_text</th>\n",
              "    </tr>\n",
              "  </thead>\n",
              "  <tbody>\n",
              "    <tr>\n",
              "      <th>0</th>\n",
              "      <td>رائع</td>\n",
              "      <td>1</td>\n",
              "      <td>رايع</td>\n",
              "    </tr>\n",
              "    <tr>\n",
              "      <th>1</th>\n",
              "      <td>برنامج رائع جدا يساعد على تلبيه الاحتياجات بشكل اسرع</td>\n",
              "      <td>1</td>\n",
              "      <td>رنامج رايع جدا يساعد على تلب احتياج شكل اسرع</td>\n",
              "    </tr>\n",
              "    <tr>\n",
              "      <th>2</th>\n",
              "      <td>التطبيق لا يغتح دائما بيعطيني لا يوجد اتصال بالشبكة..مع انه النت عندي تمام شو الحل??</td>\n",
              "      <td>-1</td>\n",
              "      <td>تطبيق لا يغتح دايم يعط لا يوجد اتصال شبك مع انه النت عند تمام شو الحل</td>\n",
              "    </tr>\n",
              "    <tr>\n",
              "      <th>3</th>\n",
              "      <td>لماذا لا يمكننا طلب من ماكدونالدز؟</td>\n",
              "      <td>-1</td>\n",
              "      <td>لماذ لا يمك طلب من ماكدونالدز</td>\n",
              "    </tr>\n",
              "    <tr>\n",
              "      <th>4</th>\n",
              "      <td>البرنامج بيظهر كل المطاعم و مغلقه مع انها بتكون فاتحه بقاله كده اكتر من شهر</td>\n",
              "      <td>-1</td>\n",
              "      <td>برنامج يظهر كل مطاعم و مغلق مع انه تكو فاتح قال كده اكتر من شهر</td>\n",
              "    </tr>\n",
              "  </tbody>\n",
              "</table>\n",
              "</div>\n",
              "      <button class=\"colab-df-convert\" onclick=\"convertToInteractive('df-926b82c6-e0f4-4dba-8048-451887e3f980')\"\n",
              "              title=\"Convert this dataframe to an interactive table.\"\n",
              "              style=\"display:none;\">\n",
              "        \n",
              "  <svg xmlns=\"http://www.w3.org/2000/svg\" height=\"24px\"viewBox=\"0 0 24 24\"\n",
              "       width=\"24px\">\n",
              "    <path d=\"M0 0h24v24H0V0z\" fill=\"none\"/>\n",
              "    <path d=\"M18.56 5.44l.94 2.06.94-2.06 2.06-.94-2.06-.94-.94-2.06-.94 2.06-2.06.94zm-11 1L8.5 8.5l.94-2.06 2.06-.94-2.06-.94L8.5 2.5l-.94 2.06-2.06.94zm10 10l.94 2.06.94-2.06 2.06-.94-2.06-.94-.94-2.06-.94 2.06-2.06.94z\"/><path d=\"M17.41 7.96l-1.37-1.37c-.4-.4-.92-.59-1.43-.59-.52 0-1.04.2-1.43.59L10.3 9.45l-7.72 7.72c-.78.78-.78 2.05 0 2.83L4 21.41c.39.39.9.59 1.41.59.51 0 1.02-.2 1.41-.59l7.78-7.78 2.81-2.81c.8-.78.8-2.07 0-2.86zM5.41 20L4 18.59l7.72-7.72 1.47 1.35L5.41 20z\"/>\n",
              "  </svg>\n",
              "      </button>\n",
              "      \n",
              "  <style>\n",
              "    .colab-df-container {\n",
              "      display:flex;\n",
              "      flex-wrap:wrap;\n",
              "      gap: 12px;\n",
              "    }\n",
              "\n",
              "    .colab-df-convert {\n",
              "      background-color: #E8F0FE;\n",
              "      border: none;\n",
              "      border-radius: 50%;\n",
              "      cursor: pointer;\n",
              "      display: none;\n",
              "      fill: #1967D2;\n",
              "      height: 32px;\n",
              "      padding: 0 0 0 0;\n",
              "      width: 32px;\n",
              "    }\n",
              "\n",
              "    .colab-df-convert:hover {\n",
              "      background-color: #E2EBFA;\n",
              "      box-shadow: 0px 1px 2px rgba(60, 64, 67, 0.3), 0px 1px 3px 1px rgba(60, 64, 67, 0.15);\n",
              "      fill: #174EA6;\n",
              "    }\n",
              "\n",
              "    [theme=dark] .colab-df-convert {\n",
              "      background-color: #3B4455;\n",
              "      fill: #D2E3FC;\n",
              "    }\n",
              "\n",
              "    [theme=dark] .colab-df-convert:hover {\n",
              "      background-color: #434B5C;\n",
              "      box-shadow: 0px 1px 3px 1px rgba(0, 0, 0, 0.15);\n",
              "      filter: drop-shadow(0px 1px 2px rgba(0, 0, 0, 0.3));\n",
              "      fill: #FFFFFF;\n",
              "    }\n",
              "  </style>\n",
              "\n",
              "      <script>\n",
              "        const buttonEl =\n",
              "          document.querySelector('#df-926b82c6-e0f4-4dba-8048-451887e3f980 button.colab-df-convert');\n",
              "        buttonEl.style.display =\n",
              "          google.colab.kernel.accessAllowed ? 'block' : 'none';\n",
              "\n",
              "        async function convertToInteractive(key) {\n",
              "          const element = document.querySelector('#df-926b82c6-e0f4-4dba-8048-451887e3f980');\n",
              "          const dataTable =\n",
              "            await google.colab.kernel.invokeFunction('convertToInteractive',\n",
              "                                                     [key], {});\n",
              "          if (!dataTable) return;\n",
              "\n",
              "          const docLinkHtml = 'Like what you see? Visit the ' +\n",
              "            '<a target=\"_blank\" href=https://colab.research.google.com/notebooks/data_table.ipynb>data table notebook</a>'\n",
              "            + ' to learn more about interactive tables.';\n",
              "          element.innerHTML = '';\n",
              "          dataTable['output_type'] = 'display_data';\n",
              "          await google.colab.output.renderOutput(dataTable, element);\n",
              "          const docLink = document.createElement('div');\n",
              "          docLink.innerHTML = docLinkHtml;\n",
              "          element.appendChild(docLink);\n",
              "        }\n",
              "      </script>\n",
              "    </div>\n",
              "  </div>\n",
              "  "
            ]
          },
          "metadata": {},
          "execution_count": 12
        }
      ],
      "source": [
        "reviews_df['clean_text'] = reviews_df['description'].apply(lambda x: clean_text(x))\n",
        "reviews_df.head()"
      ]
    },
    {
      "cell_type": "markdown",
      "metadata": {
        "id": "4ff2RkXw22ld"
      },
      "source": [
        "# Remove Empty Reviews(Rows)"
      ]
    },
    {
      "cell_type": "code",
      "execution_count": null,
      "metadata": {
        "colab": {
          "base_uri": "https://localhost:8080/"
        },
        "id": "Tmmh_CeuT-w1",
        "outputId": "757e1417-9bf8-4911-eebf-946fb081d9af"
      },
      "outputs": [
        {
          "output_type": "execute_result",
          "data": {
            "text/plain": [
              " 1    19894\n",
              "-1    10696\n",
              "Name: rating, dtype: int64"
            ]
          },
          "metadata": {},
          "execution_count": 13
        }
      ],
      "source": [
        "reviews_df.rating.value_counts()"
      ]
    },
    {
      "cell_type": "code",
      "execution_count": null,
      "metadata": {
        "colab": {
          "base_uri": "https://localhost:8080/"
        },
        "id": "EU3Mro4MaofW",
        "outputId": "1c3e9aef-80ff-41ef-cc98-d241b974c9f7"
      },
      "outputs": [
        {
          "output_type": "execute_result",
          "data": {
            "text/plain": [
              " 1    19894\n",
              "-1    10696\n",
              "Name: rating, dtype: int64"
            ]
          },
          "metadata": {},
          "execution_count": 14
        }
      ],
      "source": [
        "reviews_df = reviews_df[reviews_df.astype(str)['clean_text'] != '[]']\n",
        "reviews_df.rating.value_counts()"
      ]
    },
    {
      "cell_type": "markdown",
      "metadata": {
        "id": "z_2lNMGD3CBy"
      },
      "source": [
        "# Make Balanced Data"
      ]
    },
    {
      "cell_type": "code",
      "execution_count": null,
      "metadata": {
        "id": "-czOp0rg2s5M"
      },
      "outputs": [],
      "source": [
        "reviews_df = reviews_df.sort_values(by=['rating'])\n"
      ]
    },
    {
      "cell_type": "code",
      "execution_count": null,
      "metadata": {
        "colab": {
          "base_uri": "https://localhost:8080/"
        },
        "id": "ILvmAMUVeWuc",
        "outputId": "0ea48c66-c43c-419a-c65b-d6c967c0c060"
      },
      "outputs": [
        {
          "output_type": "execute_result",
          "data": {
            "text/plain": [
              " 1    10894\n",
              "-1    10696\n",
              "Name: rating, dtype: int64"
            ]
          },
          "metadata": {},
          "execution_count": 16
        }
      ],
      "source": [
        "reviews_df = reviews_df[:-9000]\n",
        "reviews_df.rating.value_counts()"
      ]
    },
    {
      "cell_type": "code",
      "execution_count": null,
      "metadata": {
        "colab": {
          "base_uri": "https://localhost:8080/",
          "height": 537
        },
        "id": "BvfIc861Tmdy",
        "outputId": "4c69c5c3-1ebd-4c9f-b7cb-31f794450c57"
      },
      "outputs": [
        {
          "output_type": "execute_result",
          "data": {
            "text/plain": [
              "                                                                                                                                                                                                                               description  \\\n",
              "0      كان عندي خصم 50 جنية و لما جيت اطلب مخصمليش حاجة و في ضريبة 25 جنية انا كنت عامل حسابي أن بعد الخصم هيبقي 140 جنية بس مكنش في خصم و التطبيق كان قائلي أن في خصم مخصمليش حاجة و كمان في ضريبة 25 جنية و توصيل 10 جنية طلع الحساب 220   \n",
              "1                                                                                                                                                                                                 تطبيق كان افضل ومن جديد التوصيل بطيء جدا   \n",
              "2                                                                                                                                                                                                                                  سي جداً   \n",
              "3                                                                                                                                                              تطبيق غير مفيد لسكان الشروق لانه لا يوجد فيه غير ٤ سوبرماركت ودائما مشغولين   \n",
              "4                                                                                                                                                                                                                   برنامج يقرف صراحه ربنا   \n",
              "...                                                                                                                                                                                                                                    ...   \n",
              "21585                                                                                                                                                                                   البرنامج جيد جدا ممتاز هو يوصل الطلب في معاد مظبوط   \n",
              "21586                                                                                                                                                                                                                      I love you pink   \n",
              "21587                       جيد جدا.. لكن في مشكلة لايظهر لي الاخيارات محدودة مثلا سامح مول وكريم مول وسيفوي غير موجود وانا بحاجاهم في هذا التطبيق لايظهر لي الا كم مطعم وخمس محلات حلويات فقط ومحمصين فقط لاغير ارجو حل المشكلة ضروري جدا   \n",
              "21588                                                                                                                                                                                                                               حلو 🗣️   \n",
              "21589                                                                                                                                                                                           لكل الناس الي بحكو سيء هذا التطبيق جيد جدا   \n",
              "\n",
              "       rating  \\\n",
              "0          -1   \n",
              "1          -1   \n",
              "2          -1   \n",
              "3          -1   \n",
              "4          -1   \n",
              "...       ...   \n",
              "21585       1   \n",
              "21586       1   \n",
              "21587       1   \n",
              "21588       1   \n",
              "21589       1   \n",
              "\n",
              "                                                                                                                                                                                   clean_text  \n",
              "0      كان عند خصم جن و لما جيت اطلب مخصمليش حاج و في ضريب جن انا كنت عامل حساب أن بعد خصم هيبق جن بس مكنش في خصم و تطبيق كان قايل أن في خصم مخصمليش حاج و كما في ضريب جن و توصيل جن طلع حساب  \n",
              "1                                                                                                                                                       تطبيق كان افضل ومن جديد توصيل طيء جدا  \n",
              "2                                                                                                                                                                                      سي جدا  \n",
              "3                                                                                                                             تطبيق غير مفيد لسكا شروق لان لا يوجد فيه غير سوبرمار دايم مشغول  \n",
              "4                                                                                                                                                                         رنامج يقرف صراح ربن  \n",
              "...                                                                                                                                                                                       ...  \n",
              "21585                                                                                                                                           برنامج جيد جدا متاز هو يوصل طلب في معاد مظبوط  \n",
              "21586                                                                                                                                                                                          \n",
              "21587               جيد جدا لكن في مشكل ايظهر لي اخيار محدود مثل سامح مول كريم مول سيف غير موجود وان حاج في هذا تطبيق ايظهر لي الا كم مطعم خمس محل حلو فقط محمص فقط اغير ارج حل مشكل ضرور جدا  \n",
              "21588                                                                                                                                                                                  حلو 🗣️  \n",
              "21589                                                                                                                                                    لكل ناس ال بحك سيء هذا تطبيق جيد جدا  \n",
              "\n",
              "[21590 rows x 3 columns]"
            ],
            "text/html": [
              "\n",
              "  <div id=\"df-03fb1518-059b-43f7-87c9-197947029049\">\n",
              "    <div class=\"colab-df-container\">\n",
              "      <div>\n",
              "<style scoped>\n",
              "    .dataframe tbody tr th:only-of-type {\n",
              "        vertical-align: middle;\n",
              "    }\n",
              "\n",
              "    .dataframe tbody tr th {\n",
              "        vertical-align: top;\n",
              "    }\n",
              "\n",
              "    .dataframe thead th {\n",
              "        text-align: right;\n",
              "    }\n",
              "</style>\n",
              "<table border=\"1\" class=\"dataframe\">\n",
              "  <thead>\n",
              "    <tr style=\"text-align: right;\">\n",
              "      <th></th>\n",
              "      <th>description</th>\n",
              "      <th>rating</th>\n",
              "      <th>clean_text</th>\n",
              "    </tr>\n",
              "  </thead>\n",
              "  <tbody>\n",
              "    <tr>\n",
              "      <th>0</th>\n",
              "      <td>كان عندي خصم 50 جنية و لما جيت اطلب مخصمليش حاجة و في ضريبة 25 جنية انا كنت عامل حسابي أن بعد الخصم هيبقي 140 جنية بس مكنش في خصم و التطبيق كان قائلي أن في خصم مخصمليش حاجة و كمان في ضريبة 25 جنية و توصيل 10 جنية طلع الحساب 220</td>\n",
              "      <td>-1</td>\n",
              "      <td>كان عند خصم جن و لما جيت اطلب مخصمليش حاج و في ضريب جن انا كنت عامل حساب أن بعد خصم هيبق جن بس مكنش في خصم و تطبيق كان قايل أن في خصم مخصمليش حاج و كما في ضريب جن و توصيل جن طلع حساب</td>\n",
              "    </tr>\n",
              "    <tr>\n",
              "      <th>1</th>\n",
              "      <td>تطبيق كان افضل ومن جديد التوصيل بطيء جدا</td>\n",
              "      <td>-1</td>\n",
              "      <td>تطبيق كان افضل ومن جديد توصيل طيء جدا</td>\n",
              "    </tr>\n",
              "    <tr>\n",
              "      <th>2</th>\n",
              "      <td>سي جداً</td>\n",
              "      <td>-1</td>\n",
              "      <td>سي جدا</td>\n",
              "    </tr>\n",
              "    <tr>\n",
              "      <th>3</th>\n",
              "      <td>تطبيق غير مفيد لسكان الشروق لانه لا يوجد فيه غير ٤ سوبرماركت ودائما مشغولين</td>\n",
              "      <td>-1</td>\n",
              "      <td>تطبيق غير مفيد لسكا شروق لان لا يوجد فيه غير سوبرمار دايم مشغول</td>\n",
              "    </tr>\n",
              "    <tr>\n",
              "      <th>4</th>\n",
              "      <td>برنامج يقرف صراحه ربنا</td>\n",
              "      <td>-1</td>\n",
              "      <td>رنامج يقرف صراح ربن</td>\n",
              "    </tr>\n",
              "    <tr>\n",
              "      <th>...</th>\n",
              "      <td>...</td>\n",
              "      <td>...</td>\n",
              "      <td>...</td>\n",
              "    </tr>\n",
              "    <tr>\n",
              "      <th>21585</th>\n",
              "      <td>البرنامج جيد جدا ممتاز هو يوصل الطلب في معاد مظبوط</td>\n",
              "      <td>1</td>\n",
              "      <td>برنامج جيد جدا متاز هو يوصل طلب في معاد مظبوط</td>\n",
              "    </tr>\n",
              "    <tr>\n",
              "      <th>21586</th>\n",
              "      <td>I love you pink</td>\n",
              "      <td>1</td>\n",
              "      <td></td>\n",
              "    </tr>\n",
              "    <tr>\n",
              "      <th>21587</th>\n",
              "      <td>جيد جدا.. لكن في مشكلة لايظهر لي الاخيارات محدودة مثلا سامح مول وكريم مول وسيفوي غير موجود وانا بحاجاهم في هذا التطبيق لايظهر لي الا كم مطعم وخمس محلات حلويات فقط ومحمصين فقط لاغير ارجو حل المشكلة ضروري جدا</td>\n",
              "      <td>1</td>\n",
              "      <td>جيد جدا لكن في مشكل ايظهر لي اخيار محدود مثل سامح مول كريم مول سيف غير موجود وان حاج في هذا تطبيق ايظهر لي الا كم مطعم خمس محل حلو فقط محمص فقط اغير ارج حل مشكل ضرور جدا</td>\n",
              "    </tr>\n",
              "    <tr>\n",
              "      <th>21588</th>\n",
              "      <td>حلو 🗣️</td>\n",
              "      <td>1</td>\n",
              "      <td>حلو 🗣️</td>\n",
              "    </tr>\n",
              "    <tr>\n",
              "      <th>21589</th>\n",
              "      <td>لكل الناس الي بحكو سيء هذا التطبيق جيد جدا</td>\n",
              "      <td>1</td>\n",
              "      <td>لكل ناس ال بحك سيء هذا تطبيق جيد جدا</td>\n",
              "    </tr>\n",
              "  </tbody>\n",
              "</table>\n",
              "<p>21590 rows × 3 columns</p>\n",
              "</div>\n",
              "      <button class=\"colab-df-convert\" onclick=\"convertToInteractive('df-03fb1518-059b-43f7-87c9-197947029049')\"\n",
              "              title=\"Convert this dataframe to an interactive table.\"\n",
              "              style=\"display:none;\">\n",
              "        \n",
              "  <svg xmlns=\"http://www.w3.org/2000/svg\" height=\"24px\"viewBox=\"0 0 24 24\"\n",
              "       width=\"24px\">\n",
              "    <path d=\"M0 0h24v24H0V0z\" fill=\"none\"/>\n",
              "    <path d=\"M18.56 5.44l.94 2.06.94-2.06 2.06-.94-2.06-.94-.94-2.06-.94 2.06-2.06.94zm-11 1L8.5 8.5l.94-2.06 2.06-.94-2.06-.94L8.5 2.5l-.94 2.06-2.06.94zm10 10l.94 2.06.94-2.06 2.06-.94-2.06-.94-.94-2.06-.94 2.06-2.06.94z\"/><path d=\"M17.41 7.96l-1.37-1.37c-.4-.4-.92-.59-1.43-.59-.52 0-1.04.2-1.43.59L10.3 9.45l-7.72 7.72c-.78.78-.78 2.05 0 2.83L4 21.41c.39.39.9.59 1.41.59.51 0 1.02-.2 1.41-.59l7.78-7.78 2.81-2.81c.8-.78.8-2.07 0-2.86zM5.41 20L4 18.59l7.72-7.72 1.47 1.35L5.41 20z\"/>\n",
              "  </svg>\n",
              "      </button>\n",
              "      \n",
              "  <style>\n",
              "    .colab-df-container {\n",
              "      display:flex;\n",
              "      flex-wrap:wrap;\n",
              "      gap: 12px;\n",
              "    }\n",
              "\n",
              "    .colab-df-convert {\n",
              "      background-color: #E8F0FE;\n",
              "      border: none;\n",
              "      border-radius: 50%;\n",
              "      cursor: pointer;\n",
              "      display: none;\n",
              "      fill: #1967D2;\n",
              "      height: 32px;\n",
              "      padding: 0 0 0 0;\n",
              "      width: 32px;\n",
              "    }\n",
              "\n",
              "    .colab-df-convert:hover {\n",
              "      background-color: #E2EBFA;\n",
              "      box-shadow: 0px 1px 2px rgba(60, 64, 67, 0.3), 0px 1px 3px 1px rgba(60, 64, 67, 0.15);\n",
              "      fill: #174EA6;\n",
              "    }\n",
              "\n",
              "    [theme=dark] .colab-df-convert {\n",
              "      background-color: #3B4455;\n",
              "      fill: #D2E3FC;\n",
              "    }\n",
              "\n",
              "    [theme=dark] .colab-df-convert:hover {\n",
              "      background-color: #434B5C;\n",
              "      box-shadow: 0px 1px 3px 1px rgba(0, 0, 0, 0.15);\n",
              "      filter: drop-shadow(0px 1px 2px rgba(0, 0, 0, 0.3));\n",
              "      fill: #FFFFFF;\n",
              "    }\n",
              "  </style>\n",
              "\n",
              "      <script>\n",
              "        const buttonEl =\n",
              "          document.querySelector('#df-03fb1518-059b-43f7-87c9-197947029049 button.colab-df-convert');\n",
              "        buttonEl.style.display =\n",
              "          google.colab.kernel.accessAllowed ? 'block' : 'none';\n",
              "\n",
              "        async function convertToInteractive(key) {\n",
              "          const element = document.querySelector('#df-03fb1518-059b-43f7-87c9-197947029049');\n",
              "          const dataTable =\n",
              "            await google.colab.kernel.invokeFunction('convertToInteractive',\n",
              "                                                     [key], {});\n",
              "          if (!dataTable) return;\n",
              "\n",
              "          const docLinkHtml = 'Like what you see? Visit the ' +\n",
              "            '<a target=\"_blank\" href=https://colab.research.google.com/notebooks/data_table.ipynb>data table notebook</a>'\n",
              "            + ' to learn more about interactive tables.';\n",
              "          element.innerHTML = '';\n",
              "          dataTable['output_type'] = 'display_data';\n",
              "          await google.colab.output.renderOutput(dataTable, element);\n",
              "          const docLink = document.createElement('div');\n",
              "          docLink.innerHTML = docLinkHtml;\n",
              "          element.appendChild(docLink);\n",
              "        }\n",
              "      </script>\n",
              "    </div>\n",
              "  </div>\n",
              "  "
            ]
          },
          "metadata": {},
          "execution_count": 17
        }
      ],
      "source": [
        "reviews_df = reviews_df.reset_index(drop=True)\n",
        "reviews_df"
      ]
    },
    {
      "cell_type": "markdown",
      "metadata": {
        "id": "VX8C6T2W3dtJ"
      },
      "source": [
        "# Extract Features"
      ]
    },
    {
      "cell_type": "markdown",
      "metadata": {
        "id": "C0xNqee03uzA"
      },
      "source": [
        "## using TFIDF"
      ]
    },
    {
      "cell_type": "code",
      "execution_count": null,
      "metadata": {
        "id": "s_aEApOIJC05"
      },
      "outputs": [],
      "source": [
        "from sklearn.feature_extraction.text import TfidfVectorizer, CountVectorizer"
      ]
    },
    {
      "cell_type": "code",
      "execution_count": null,
      "metadata": {
        "colab": {
          "base_uri": "https://localhost:8080/",
          "height": 423
        },
        "id": "u9avPjtjMxCl",
        "outputId": "27b7a397-e0b9-4ed2-c7ee-3517ed14f5d3"
      },
      "outputs": [
        {
          "output_type": "execute_result",
          "data": {
            "text/plain": [
              "       ²¹³   ²ش  ßãšس   ùů  čğīğ   ηξ  ιδέα   να  рщй  ьииь  ...  ﻟﻴﺶ  ﻣﺎﻛﻮ  \\\n",
              "0      0.0  0.0   0.0  0.0   0.0  0.0   0.0  0.0  0.0   0.0  ...  0.0   0.0   \n",
              "1      0.0  0.0   0.0  0.0   0.0  0.0   0.0  0.0  0.0   0.0  ...  0.0   0.0   \n",
              "2      0.0  0.0   0.0  0.0   0.0  0.0   0.0  0.0  0.0   0.0  ...  0.0   0.0   \n",
              "3      0.0  0.0   0.0  0.0   0.0  0.0   0.0  0.0  0.0   0.0  ...  0.0   0.0   \n",
              "4      0.0  0.0   0.0  0.0   0.0  0.0   0.0  0.0  0.0   0.0  ...  0.0   0.0   \n",
              "...    ...  ...   ...  ...   ...  ...   ...  ...  ...   ...  ...  ...   ...   \n",
              "21585  0.0  0.0   0.0  0.0   0.0  0.0   0.0  0.0  0.0   0.0  ...  0.0   0.0   \n",
              "21586  0.0  0.0   0.0  0.0   0.0  0.0   0.0  0.0  0.0   0.0  ...  0.0   0.0   \n",
              "21587  0.0  0.0   0.0  0.0   0.0  0.0   0.0  0.0  0.0   0.0  ...  0.0   0.0   \n",
              "21588  0.0  0.0   0.0  0.0   0.0  0.0   0.0  0.0  0.0   0.0  ...  0.0   0.0   \n",
              "21589  0.0  0.0   0.0  0.0   0.0  0.0   0.0  0.0  0.0   0.0  ...  0.0   0.0   \n",
              "\n",
              "       ﻵحق  ﻷكل  ﻷنه  ﻻزم  ﻻكن  ﻻيتم  ﻻيظهر  ﻻيوجد  \n",
              "0      0.0  0.0  0.0  0.0  0.0   0.0    0.0    0.0  \n",
              "1      0.0  0.0  0.0  0.0  0.0   0.0    0.0    0.0  \n",
              "2      0.0  0.0  0.0  0.0  0.0   0.0    0.0    0.0  \n",
              "3      0.0  0.0  0.0  0.0  0.0   0.0    0.0    0.0  \n",
              "4      0.0  0.0  0.0  0.0  0.0   0.0    0.0    0.0  \n",
              "...    ...  ...  ...  ...  ...   ...    ...    ...  \n",
              "21585  0.0  0.0  0.0  0.0  0.0   0.0    0.0    0.0  \n",
              "21586  0.0  0.0  0.0  0.0  0.0   0.0    0.0    0.0  \n",
              "21587  0.0  0.0  0.0  0.0  0.0   0.0    0.0    0.0  \n",
              "21588  0.0  0.0  0.0  0.0  0.0   0.0    0.0    0.0  \n",
              "21589  0.0  0.0  0.0  0.0  0.0   0.0    0.0    0.0  \n",
              "\n",
              "[21590 rows x 13666 columns]"
            ],
            "text/html": [
              "\n",
              "  <div id=\"df-f0c0c96d-1cb4-4c46-8cb0-5949e990f98c\">\n",
              "    <div class=\"colab-df-container\">\n",
              "      <div>\n",
              "<style scoped>\n",
              "    .dataframe tbody tr th:only-of-type {\n",
              "        vertical-align: middle;\n",
              "    }\n",
              "\n",
              "    .dataframe tbody tr th {\n",
              "        vertical-align: top;\n",
              "    }\n",
              "\n",
              "    .dataframe thead th {\n",
              "        text-align: right;\n",
              "    }\n",
              "</style>\n",
              "<table border=\"1\" class=\"dataframe\">\n",
              "  <thead>\n",
              "    <tr style=\"text-align: right;\">\n",
              "      <th></th>\n",
              "      <th>²¹³</th>\n",
              "      <th>²ش</th>\n",
              "      <th>ßãšس</th>\n",
              "      <th>ùů</th>\n",
              "      <th>čğīğ</th>\n",
              "      <th>ηξ</th>\n",
              "      <th>ιδέα</th>\n",
              "      <th>να</th>\n",
              "      <th>рщй</th>\n",
              "      <th>ьииь</th>\n",
              "      <th>...</th>\n",
              "      <th>ﻟﻴﺶ</th>\n",
              "      <th>ﻣﺎﻛﻮ</th>\n",
              "      <th>ﻵحق</th>\n",
              "      <th>ﻷكل</th>\n",
              "      <th>ﻷنه</th>\n",
              "      <th>ﻻزم</th>\n",
              "      <th>ﻻكن</th>\n",
              "      <th>ﻻيتم</th>\n",
              "      <th>ﻻيظهر</th>\n",
              "      <th>ﻻيوجد</th>\n",
              "    </tr>\n",
              "  </thead>\n",
              "  <tbody>\n",
              "    <tr>\n",
              "      <th>0</th>\n",
              "      <td>0.0</td>\n",
              "      <td>0.0</td>\n",
              "      <td>0.0</td>\n",
              "      <td>0.0</td>\n",
              "      <td>0.0</td>\n",
              "      <td>0.0</td>\n",
              "      <td>0.0</td>\n",
              "      <td>0.0</td>\n",
              "      <td>0.0</td>\n",
              "      <td>0.0</td>\n",
              "      <td>...</td>\n",
              "      <td>0.0</td>\n",
              "      <td>0.0</td>\n",
              "      <td>0.0</td>\n",
              "      <td>0.0</td>\n",
              "      <td>0.0</td>\n",
              "      <td>0.0</td>\n",
              "      <td>0.0</td>\n",
              "      <td>0.0</td>\n",
              "      <td>0.0</td>\n",
              "      <td>0.0</td>\n",
              "    </tr>\n",
              "    <tr>\n",
              "      <th>1</th>\n",
              "      <td>0.0</td>\n",
              "      <td>0.0</td>\n",
              "      <td>0.0</td>\n",
              "      <td>0.0</td>\n",
              "      <td>0.0</td>\n",
              "      <td>0.0</td>\n",
              "      <td>0.0</td>\n",
              "      <td>0.0</td>\n",
              "      <td>0.0</td>\n",
              "      <td>0.0</td>\n",
              "      <td>...</td>\n",
              "      <td>0.0</td>\n",
              "      <td>0.0</td>\n",
              "      <td>0.0</td>\n",
              "      <td>0.0</td>\n",
              "      <td>0.0</td>\n",
              "      <td>0.0</td>\n",
              "      <td>0.0</td>\n",
              "      <td>0.0</td>\n",
              "      <td>0.0</td>\n",
              "      <td>0.0</td>\n",
              "    </tr>\n",
              "    <tr>\n",
              "      <th>2</th>\n",
              "      <td>0.0</td>\n",
              "      <td>0.0</td>\n",
              "      <td>0.0</td>\n",
              "      <td>0.0</td>\n",
              "      <td>0.0</td>\n",
              "      <td>0.0</td>\n",
              "      <td>0.0</td>\n",
              "      <td>0.0</td>\n",
              "      <td>0.0</td>\n",
              "      <td>0.0</td>\n",
              "      <td>...</td>\n",
              "      <td>0.0</td>\n",
              "      <td>0.0</td>\n",
              "      <td>0.0</td>\n",
              "      <td>0.0</td>\n",
              "      <td>0.0</td>\n",
              "      <td>0.0</td>\n",
              "      <td>0.0</td>\n",
              "      <td>0.0</td>\n",
              "      <td>0.0</td>\n",
              "      <td>0.0</td>\n",
              "    </tr>\n",
              "    <tr>\n",
              "      <th>3</th>\n",
              "      <td>0.0</td>\n",
              "      <td>0.0</td>\n",
              "      <td>0.0</td>\n",
              "      <td>0.0</td>\n",
              "      <td>0.0</td>\n",
              "      <td>0.0</td>\n",
              "      <td>0.0</td>\n",
              "      <td>0.0</td>\n",
              "      <td>0.0</td>\n",
              "      <td>0.0</td>\n",
              "      <td>...</td>\n",
              "      <td>0.0</td>\n",
              "      <td>0.0</td>\n",
              "      <td>0.0</td>\n",
              "      <td>0.0</td>\n",
              "      <td>0.0</td>\n",
              "      <td>0.0</td>\n",
              "      <td>0.0</td>\n",
              "      <td>0.0</td>\n",
              "      <td>0.0</td>\n",
              "      <td>0.0</td>\n",
              "    </tr>\n",
              "    <tr>\n",
              "      <th>4</th>\n",
              "      <td>0.0</td>\n",
              "      <td>0.0</td>\n",
              "      <td>0.0</td>\n",
              "      <td>0.0</td>\n",
              "      <td>0.0</td>\n",
              "      <td>0.0</td>\n",
              "      <td>0.0</td>\n",
              "      <td>0.0</td>\n",
              "      <td>0.0</td>\n",
              "      <td>0.0</td>\n",
              "      <td>...</td>\n",
              "      <td>0.0</td>\n",
              "      <td>0.0</td>\n",
              "      <td>0.0</td>\n",
              "      <td>0.0</td>\n",
              "      <td>0.0</td>\n",
              "      <td>0.0</td>\n",
              "      <td>0.0</td>\n",
              "      <td>0.0</td>\n",
              "      <td>0.0</td>\n",
              "      <td>0.0</td>\n",
              "    </tr>\n",
              "    <tr>\n",
              "      <th>...</th>\n",
              "      <td>...</td>\n",
              "      <td>...</td>\n",
              "      <td>...</td>\n",
              "      <td>...</td>\n",
              "      <td>...</td>\n",
              "      <td>...</td>\n",
              "      <td>...</td>\n",
              "      <td>...</td>\n",
              "      <td>...</td>\n",
              "      <td>...</td>\n",
              "      <td>...</td>\n",
              "      <td>...</td>\n",
              "      <td>...</td>\n",
              "      <td>...</td>\n",
              "      <td>...</td>\n",
              "      <td>...</td>\n",
              "      <td>...</td>\n",
              "      <td>...</td>\n",
              "      <td>...</td>\n",
              "      <td>...</td>\n",
              "      <td>...</td>\n",
              "    </tr>\n",
              "    <tr>\n",
              "      <th>21585</th>\n",
              "      <td>0.0</td>\n",
              "      <td>0.0</td>\n",
              "      <td>0.0</td>\n",
              "      <td>0.0</td>\n",
              "      <td>0.0</td>\n",
              "      <td>0.0</td>\n",
              "      <td>0.0</td>\n",
              "      <td>0.0</td>\n",
              "      <td>0.0</td>\n",
              "      <td>0.0</td>\n",
              "      <td>...</td>\n",
              "      <td>0.0</td>\n",
              "      <td>0.0</td>\n",
              "      <td>0.0</td>\n",
              "      <td>0.0</td>\n",
              "      <td>0.0</td>\n",
              "      <td>0.0</td>\n",
              "      <td>0.0</td>\n",
              "      <td>0.0</td>\n",
              "      <td>0.0</td>\n",
              "      <td>0.0</td>\n",
              "    </tr>\n",
              "    <tr>\n",
              "      <th>21586</th>\n",
              "      <td>0.0</td>\n",
              "      <td>0.0</td>\n",
              "      <td>0.0</td>\n",
              "      <td>0.0</td>\n",
              "      <td>0.0</td>\n",
              "      <td>0.0</td>\n",
              "      <td>0.0</td>\n",
              "      <td>0.0</td>\n",
              "      <td>0.0</td>\n",
              "      <td>0.0</td>\n",
              "      <td>...</td>\n",
              "      <td>0.0</td>\n",
              "      <td>0.0</td>\n",
              "      <td>0.0</td>\n",
              "      <td>0.0</td>\n",
              "      <td>0.0</td>\n",
              "      <td>0.0</td>\n",
              "      <td>0.0</td>\n",
              "      <td>0.0</td>\n",
              "      <td>0.0</td>\n",
              "      <td>0.0</td>\n",
              "    </tr>\n",
              "    <tr>\n",
              "      <th>21587</th>\n",
              "      <td>0.0</td>\n",
              "      <td>0.0</td>\n",
              "      <td>0.0</td>\n",
              "      <td>0.0</td>\n",
              "      <td>0.0</td>\n",
              "      <td>0.0</td>\n",
              "      <td>0.0</td>\n",
              "      <td>0.0</td>\n",
              "      <td>0.0</td>\n",
              "      <td>0.0</td>\n",
              "      <td>...</td>\n",
              "      <td>0.0</td>\n",
              "      <td>0.0</td>\n",
              "      <td>0.0</td>\n",
              "      <td>0.0</td>\n",
              "      <td>0.0</td>\n",
              "      <td>0.0</td>\n",
              "      <td>0.0</td>\n",
              "      <td>0.0</td>\n",
              "      <td>0.0</td>\n",
              "      <td>0.0</td>\n",
              "    </tr>\n",
              "    <tr>\n",
              "      <th>21588</th>\n",
              "      <td>0.0</td>\n",
              "      <td>0.0</td>\n",
              "      <td>0.0</td>\n",
              "      <td>0.0</td>\n",
              "      <td>0.0</td>\n",
              "      <td>0.0</td>\n",
              "      <td>0.0</td>\n",
              "      <td>0.0</td>\n",
              "      <td>0.0</td>\n",
              "      <td>0.0</td>\n",
              "      <td>...</td>\n",
              "      <td>0.0</td>\n",
              "      <td>0.0</td>\n",
              "      <td>0.0</td>\n",
              "      <td>0.0</td>\n",
              "      <td>0.0</td>\n",
              "      <td>0.0</td>\n",
              "      <td>0.0</td>\n",
              "      <td>0.0</td>\n",
              "      <td>0.0</td>\n",
              "      <td>0.0</td>\n",
              "    </tr>\n",
              "    <tr>\n",
              "      <th>21589</th>\n",
              "      <td>0.0</td>\n",
              "      <td>0.0</td>\n",
              "      <td>0.0</td>\n",
              "      <td>0.0</td>\n",
              "      <td>0.0</td>\n",
              "      <td>0.0</td>\n",
              "      <td>0.0</td>\n",
              "      <td>0.0</td>\n",
              "      <td>0.0</td>\n",
              "      <td>0.0</td>\n",
              "      <td>...</td>\n",
              "      <td>0.0</td>\n",
              "      <td>0.0</td>\n",
              "      <td>0.0</td>\n",
              "      <td>0.0</td>\n",
              "      <td>0.0</td>\n",
              "      <td>0.0</td>\n",
              "      <td>0.0</td>\n",
              "      <td>0.0</td>\n",
              "      <td>0.0</td>\n",
              "      <td>0.0</td>\n",
              "    </tr>\n",
              "  </tbody>\n",
              "</table>\n",
              "<p>21590 rows × 13666 columns</p>\n",
              "</div>\n",
              "      <button class=\"colab-df-convert\" onclick=\"convertToInteractive('df-f0c0c96d-1cb4-4c46-8cb0-5949e990f98c')\"\n",
              "              title=\"Convert this dataframe to an interactive table.\"\n",
              "              style=\"display:none;\">\n",
              "        \n",
              "  <svg xmlns=\"http://www.w3.org/2000/svg\" height=\"24px\"viewBox=\"0 0 24 24\"\n",
              "       width=\"24px\">\n",
              "    <path d=\"M0 0h24v24H0V0z\" fill=\"none\"/>\n",
              "    <path d=\"M18.56 5.44l.94 2.06.94-2.06 2.06-.94-2.06-.94-.94-2.06-.94 2.06-2.06.94zm-11 1L8.5 8.5l.94-2.06 2.06-.94-2.06-.94L8.5 2.5l-.94 2.06-2.06.94zm10 10l.94 2.06.94-2.06 2.06-.94-2.06-.94-.94-2.06-.94 2.06-2.06.94z\"/><path d=\"M17.41 7.96l-1.37-1.37c-.4-.4-.92-.59-1.43-.59-.52 0-1.04.2-1.43.59L10.3 9.45l-7.72 7.72c-.78.78-.78 2.05 0 2.83L4 21.41c.39.39.9.59 1.41.59.51 0 1.02-.2 1.41-.59l7.78-7.78 2.81-2.81c.8-.78.8-2.07 0-2.86zM5.41 20L4 18.59l7.72-7.72 1.47 1.35L5.41 20z\"/>\n",
              "  </svg>\n",
              "      </button>\n",
              "      \n",
              "  <style>\n",
              "    .colab-df-container {\n",
              "      display:flex;\n",
              "      flex-wrap:wrap;\n",
              "      gap: 12px;\n",
              "    }\n",
              "\n",
              "    .colab-df-convert {\n",
              "      background-color: #E8F0FE;\n",
              "      border: none;\n",
              "      border-radius: 50%;\n",
              "      cursor: pointer;\n",
              "      display: none;\n",
              "      fill: #1967D2;\n",
              "      height: 32px;\n",
              "      padding: 0 0 0 0;\n",
              "      width: 32px;\n",
              "    }\n",
              "\n",
              "    .colab-df-convert:hover {\n",
              "      background-color: #E2EBFA;\n",
              "      box-shadow: 0px 1px 2px rgba(60, 64, 67, 0.3), 0px 1px 3px 1px rgba(60, 64, 67, 0.15);\n",
              "      fill: #174EA6;\n",
              "    }\n",
              "\n",
              "    [theme=dark] .colab-df-convert {\n",
              "      background-color: #3B4455;\n",
              "      fill: #D2E3FC;\n",
              "    }\n",
              "\n",
              "    [theme=dark] .colab-df-convert:hover {\n",
              "      background-color: #434B5C;\n",
              "      box-shadow: 0px 1px 3px 1px rgba(0, 0, 0, 0.15);\n",
              "      filter: drop-shadow(0px 1px 2px rgba(0, 0, 0, 0.3));\n",
              "      fill: #FFFFFF;\n",
              "    }\n",
              "  </style>\n",
              "\n",
              "      <script>\n",
              "        const buttonEl =\n",
              "          document.querySelector('#df-f0c0c96d-1cb4-4c46-8cb0-5949e990f98c button.colab-df-convert');\n",
              "        buttonEl.style.display =\n",
              "          google.colab.kernel.accessAllowed ? 'block' : 'none';\n",
              "\n",
              "        async function convertToInteractive(key) {\n",
              "          const element = document.querySelector('#df-f0c0c96d-1cb4-4c46-8cb0-5949e990f98c');\n",
              "          const dataTable =\n",
              "            await google.colab.kernel.invokeFunction('convertToInteractive',\n",
              "                                                     [key], {});\n",
              "          if (!dataTable) return;\n",
              "\n",
              "          const docLinkHtml = 'Like what you see? Visit the ' +\n",
              "            '<a target=\"_blank\" href=https://colab.research.google.com/notebooks/data_table.ipynb>data table notebook</a>'\n",
              "            + ' to learn more about interactive tables.';\n",
              "          element.innerHTML = '';\n",
              "          dataTable['output_type'] = 'display_data';\n",
              "          await google.colab.output.renderOutput(dataTable, element);\n",
              "          const docLink = document.createElement('div');\n",
              "          docLink.innerHTML = docLinkHtml;\n",
              "          element.appendChild(docLink);\n",
              "        }\n",
              "      </script>\n",
              "    </div>\n",
              "  </div>\n",
              "  "
            ]
          },
          "metadata": {},
          "execution_count": 19
        }
      ],
      "source": [
        "tdidf_vect= TfidfVectorizer()\n",
        "tdidf = tdidf_vect.fit_transform(reviews_df['clean_text'])\n",
        "\n",
        "\n",
        "features_tdidf = pd.DataFrame(tdidf.toarray())\n",
        "features_tdidf.columns = tdidf_vect.get_feature_names_out()\n",
        "features_tdidf"
      ]
    },
    {
      "cell_type": "code",
      "execution_count": null,
      "metadata": {
        "id": "4HOSKSgIEkg0"
      },
      "outputs": [],
      "source": [
        "# count_vect= CountVectorizer()\n",
        "# count = count_vect.fit_transform(reviews_df['clean_text'])\n",
        "\n",
        "\n",
        "# features_count_vect = pd.DataFrame(count.toarray())\n",
        "# features_count_vect.columns = count_vect.get_feature_names_out()\n",
        "# features_count_vect"
      ]
    },
    {
      "cell_type": "markdown",
      "metadata": {
        "id": "xP9ZxStr34PD"
      },
      "source": [
        "## Other Features\n"
      ]
    },
    {
      "cell_type": "markdown",
      "metadata": {
        "id": "MUqRZOIn8Zov"
      },
      "source": [
        "### Type of emojies"
      ]
    },
    {
      "cell_type": "code",
      "execution_count": null,
      "metadata": {
        "id": "-EmHnZV48cH_"
      },
      "outputs": [],
      "source": [
        "def extractEmoji(text):\n",
        "  return str(set([char for char in text if re.match(emoji_re, char)]))\n",
        "\n",
        "reviews_df['type_of_emoji'] = reviews_df['description'].apply(lambda x: extractEmoji(x))\n",
        "\n",
        "tdidf_e = TfidfVectorizer()\n",
        "tdidf = tdidf_e.fit_transform(reviews_df['type_of_emoji'])\n",
        "number_of_emoji = pd.DataFrame(tdidf.toarray())\n",
        "number_of_emoji.columns = tdidf_e.get_feature_names_out()"
      ]
    },
    {
      "cell_type": "markdown",
      "metadata": {
        "id": "HO2oxfcIR8wB"
      },
      "source": [
        "### Number of Words"
      ]
    },
    {
      "cell_type": "code",
      "execution_count": null,
      "metadata": {
        "id": "M0AxooulUvCT"
      },
      "outputs": [],
      "source": [
        "reviews_df['number_of_words'] = reviews_df['description'].apply(lambda x: len(x.split(\" \")))"
      ]
    },
    {
      "cell_type": "markdown",
      "metadata": {
        "id": "C5U7Jr84SA9Z"
      },
      "source": [
        "### Number of Punctuation"
      ]
    },
    {
      "cell_type": "code",
      "execution_count": null,
      "metadata": {
        "id": "hQyV9PoE0ZVU"
      },
      "outputs": [],
      "source": [
        "def count(text):\n",
        "  count = sum([1 for char in text if char in ['!', '?', '؟']])\n",
        "  return count\n",
        "\n",
        "reviews_df['number_of_?!'] = reviews_df['description'].apply(lambda x: count(x))\n",
        "\n",
        "# print(reviews_df['number_of_?!'].value_counts())\n",
        "\n",
        "# reviews_df[reviews_df['rating'] == -1].describe()\n",
        "\n",
        "# reviews_df.head(1000)"
      ]
    },
    {
      "cell_type": "markdown",
      "metadata": {
        "id": "b88LBSLSSEPK"
      },
      "source": [
        "### Number of Emojis"
      ]
    },
    {
      "cell_type": "code",
      "execution_count": null,
      "metadata": {
        "colab": {
          "base_uri": "https://localhost:8080/",
          "height": 354
        },
        "id": "IunM0oRRvXv4",
        "outputId": "d7ab42fc-b99e-414c-c7b1-5268f9abfecf"
      },
      "outputs": [
        {
          "output_type": "execute_result",
          "data": {
            "text/plain": [
              "                                                                                                                                                                                                                           description  \\\n",
              "0  كان عندي خصم 50 جنية و لما جيت اطلب مخصمليش حاجة و في ضريبة 25 جنية انا كنت عامل حسابي أن بعد الخصم هيبقي 140 جنية بس مكنش في خصم و التطبيق كان قائلي أن في خصم مخصمليش حاجة و كمان في ضريبة 25 جنية و توصيل 10 جنية طلع الحساب 220   \n",
              "1                                                                                                                                                                                             تطبيق كان افضل ومن جديد التوصيل بطيء جدا   \n",
              "2                                                                                                                                                                                                                              سي جداً   \n",
              "3                                                                                                                                                          تطبيق غير مفيد لسكان الشروق لانه لا يوجد فيه غير ٤ سوبرماركت ودائما مشغولين   \n",
              "4                                                                                                                                                                                                               برنامج يقرف صراحه ربنا   \n",
              "\n",
              "   rating  \\\n",
              "0      -1   \n",
              "1      -1   \n",
              "2      -1   \n",
              "3      -1   \n",
              "4      -1   \n",
              "\n",
              "                                                                                                                                                                               clean_text  \\\n",
              "0  كان عند خصم جن و لما جيت اطلب مخصمليش حاج و في ضريب جن انا كنت عامل حساب أن بعد خصم هيبق جن بس مكنش في خصم و تطبيق كان قايل أن في خصم مخصمليش حاج و كما في ضريب جن و توصيل جن طلع حساب   \n",
              "1                                                                                                                                                   تطبيق كان افضل ومن جديد توصيل طيء جدا   \n",
              "2                                                                                                                                                                                  سي جدا   \n",
              "3                                                                                                                         تطبيق غير مفيد لسكا شروق لان لا يوجد فيه غير سوبرمار دايم مشغول   \n",
              "4                                                                                                                                                                     رنامج يقرف صراح ربن   \n",
              "\n",
              "  type_of_emoji  number_of_words  number_of_?!  Number_of_emoji  \n",
              "0         set()               52             0                0  \n",
              "1         set()                8             0                0  \n",
              "2         set()                2             0                0  \n",
              "3         set()               14             0                0  \n",
              "4         set()                4             0                0  "
            ],
            "text/html": [
              "\n",
              "  <div id=\"df-35b0d05d-e238-4c46-9938-90f8316ddef0\">\n",
              "    <div class=\"colab-df-container\">\n",
              "      <div>\n",
              "<style scoped>\n",
              "    .dataframe tbody tr th:only-of-type {\n",
              "        vertical-align: middle;\n",
              "    }\n",
              "\n",
              "    .dataframe tbody tr th {\n",
              "        vertical-align: top;\n",
              "    }\n",
              "\n",
              "    .dataframe thead th {\n",
              "        text-align: right;\n",
              "    }\n",
              "</style>\n",
              "<table border=\"1\" class=\"dataframe\">\n",
              "  <thead>\n",
              "    <tr style=\"text-align: right;\">\n",
              "      <th></th>\n",
              "      <th>description</th>\n",
              "      <th>rating</th>\n",
              "      <th>clean_text</th>\n",
              "      <th>type_of_emoji</th>\n",
              "      <th>number_of_words</th>\n",
              "      <th>number_of_?!</th>\n",
              "      <th>Number_of_emoji</th>\n",
              "    </tr>\n",
              "  </thead>\n",
              "  <tbody>\n",
              "    <tr>\n",
              "      <th>0</th>\n",
              "      <td>كان عندي خصم 50 جنية و لما جيت اطلب مخصمليش حاجة و في ضريبة 25 جنية انا كنت عامل حسابي أن بعد الخصم هيبقي 140 جنية بس مكنش في خصم و التطبيق كان قائلي أن في خصم مخصمليش حاجة و كمان في ضريبة 25 جنية و توصيل 10 جنية طلع الحساب 220</td>\n",
              "      <td>-1</td>\n",
              "      <td>كان عند خصم جن و لما جيت اطلب مخصمليش حاج و في ضريب جن انا كنت عامل حساب أن بعد خصم هيبق جن بس مكنش في خصم و تطبيق كان قايل أن في خصم مخصمليش حاج و كما في ضريب جن و توصيل جن طلع حساب</td>\n",
              "      <td>set()</td>\n",
              "      <td>52</td>\n",
              "      <td>0</td>\n",
              "      <td>0</td>\n",
              "    </tr>\n",
              "    <tr>\n",
              "      <th>1</th>\n",
              "      <td>تطبيق كان افضل ومن جديد التوصيل بطيء جدا</td>\n",
              "      <td>-1</td>\n",
              "      <td>تطبيق كان افضل ومن جديد توصيل طيء جدا</td>\n",
              "      <td>set()</td>\n",
              "      <td>8</td>\n",
              "      <td>0</td>\n",
              "      <td>0</td>\n",
              "    </tr>\n",
              "    <tr>\n",
              "      <th>2</th>\n",
              "      <td>سي جداً</td>\n",
              "      <td>-1</td>\n",
              "      <td>سي جدا</td>\n",
              "      <td>set()</td>\n",
              "      <td>2</td>\n",
              "      <td>0</td>\n",
              "      <td>0</td>\n",
              "    </tr>\n",
              "    <tr>\n",
              "      <th>3</th>\n",
              "      <td>تطبيق غير مفيد لسكان الشروق لانه لا يوجد فيه غير ٤ سوبرماركت ودائما مشغولين</td>\n",
              "      <td>-1</td>\n",
              "      <td>تطبيق غير مفيد لسكا شروق لان لا يوجد فيه غير سوبرمار دايم مشغول</td>\n",
              "      <td>set()</td>\n",
              "      <td>14</td>\n",
              "      <td>0</td>\n",
              "      <td>0</td>\n",
              "    </tr>\n",
              "    <tr>\n",
              "      <th>4</th>\n",
              "      <td>برنامج يقرف صراحه ربنا</td>\n",
              "      <td>-1</td>\n",
              "      <td>رنامج يقرف صراح ربن</td>\n",
              "      <td>set()</td>\n",
              "      <td>4</td>\n",
              "      <td>0</td>\n",
              "      <td>0</td>\n",
              "    </tr>\n",
              "  </tbody>\n",
              "</table>\n",
              "</div>\n",
              "      <button class=\"colab-df-convert\" onclick=\"convertToInteractive('df-35b0d05d-e238-4c46-9938-90f8316ddef0')\"\n",
              "              title=\"Convert this dataframe to an interactive table.\"\n",
              "              style=\"display:none;\">\n",
              "        \n",
              "  <svg xmlns=\"http://www.w3.org/2000/svg\" height=\"24px\"viewBox=\"0 0 24 24\"\n",
              "       width=\"24px\">\n",
              "    <path d=\"M0 0h24v24H0V0z\" fill=\"none\"/>\n",
              "    <path d=\"M18.56 5.44l.94 2.06.94-2.06 2.06-.94-2.06-.94-.94-2.06-.94 2.06-2.06.94zm-11 1L8.5 8.5l.94-2.06 2.06-.94-2.06-.94L8.5 2.5l-.94 2.06-2.06.94zm10 10l.94 2.06.94-2.06 2.06-.94-2.06-.94-.94-2.06-.94 2.06-2.06.94z\"/><path d=\"M17.41 7.96l-1.37-1.37c-.4-.4-.92-.59-1.43-.59-.52 0-1.04.2-1.43.59L10.3 9.45l-7.72 7.72c-.78.78-.78 2.05 0 2.83L4 21.41c.39.39.9.59 1.41.59.51 0 1.02-.2 1.41-.59l7.78-7.78 2.81-2.81c.8-.78.8-2.07 0-2.86zM5.41 20L4 18.59l7.72-7.72 1.47 1.35L5.41 20z\"/>\n",
              "  </svg>\n",
              "      </button>\n",
              "      \n",
              "  <style>\n",
              "    .colab-df-container {\n",
              "      display:flex;\n",
              "      flex-wrap:wrap;\n",
              "      gap: 12px;\n",
              "    }\n",
              "\n",
              "    .colab-df-convert {\n",
              "      background-color: #E8F0FE;\n",
              "      border: none;\n",
              "      border-radius: 50%;\n",
              "      cursor: pointer;\n",
              "      display: none;\n",
              "      fill: #1967D2;\n",
              "      height: 32px;\n",
              "      padding: 0 0 0 0;\n",
              "      width: 32px;\n",
              "    }\n",
              "\n",
              "    .colab-df-convert:hover {\n",
              "      background-color: #E2EBFA;\n",
              "      box-shadow: 0px 1px 2px rgba(60, 64, 67, 0.3), 0px 1px 3px 1px rgba(60, 64, 67, 0.15);\n",
              "      fill: #174EA6;\n",
              "    }\n",
              "\n",
              "    [theme=dark] .colab-df-convert {\n",
              "      background-color: #3B4455;\n",
              "      fill: #D2E3FC;\n",
              "    }\n",
              "\n",
              "    [theme=dark] .colab-df-convert:hover {\n",
              "      background-color: #434B5C;\n",
              "      box-shadow: 0px 1px 3px 1px rgba(0, 0, 0, 0.15);\n",
              "      filter: drop-shadow(0px 1px 2px rgba(0, 0, 0, 0.3));\n",
              "      fill: #FFFFFF;\n",
              "    }\n",
              "  </style>\n",
              "\n",
              "      <script>\n",
              "        const buttonEl =\n",
              "          document.querySelector('#df-35b0d05d-e238-4c46-9938-90f8316ddef0 button.colab-df-convert');\n",
              "        buttonEl.style.display =\n",
              "          google.colab.kernel.accessAllowed ? 'block' : 'none';\n",
              "\n",
              "        async function convertToInteractive(key) {\n",
              "          const element = document.querySelector('#df-35b0d05d-e238-4c46-9938-90f8316ddef0');\n",
              "          const dataTable =\n",
              "            await google.colab.kernel.invokeFunction('convertToInteractive',\n",
              "                                                     [key], {});\n",
              "          if (!dataTable) return;\n",
              "\n",
              "          const docLinkHtml = 'Like what you see? Visit the ' +\n",
              "            '<a target=\"_blank\" href=https://colab.research.google.com/notebooks/data_table.ipynb>data table notebook</a>'\n",
              "            + ' to learn more about interactive tables.';\n",
              "          element.innerHTML = '';\n",
              "          dataTable['output_type'] = 'display_data';\n",
              "          await google.colab.output.renderOutput(dataTable, element);\n",
              "          const docLink = document.createElement('div');\n",
              "          docLink.innerHTML = docLinkHtml;\n",
              "          element.appendChild(docLink);\n",
              "        }\n",
              "      </script>\n",
              "    </div>\n",
              "  </div>\n",
              "  "
            ]
          },
          "metadata": {},
          "execution_count": 24
        }
      ],
      "source": [
        "def count(x):\n",
        "  count = sum([1 for i in x if re.match(emoji_re, i)])\n",
        "  return count\n",
        "\n",
        "reviews_df['Number_of_emoji'] = reviews_df['description'].apply(lambda x: count(x))\n",
        "reviews_df.head()\n",
        "\n",
        "# reviews_df[reviews_df['count_emoji'] > 0].rating.value_counts()"
      ]
    },
    {
      "cell_type": "code",
      "execution_count": null,
      "metadata": {
        "id": "zh69nHMKOc-b"
      },
      "outputs": [],
      "source": [
        "# [reviews_df['number_of_words'], reviews_df['number_of_?!'], reviews_df['Number_of_emoji'],"
      ]
    },
    {
      "cell_type": "markdown",
      "metadata": {
        "id": "RscBn-5HeKxU"
      },
      "source": [
        "# Machine Learning Model\n"
      ]
    },
    {
      "cell_type": "markdown",
      "metadata": {
        "id": "tDErEX6OTRaI"
      },
      "source": [
        "## Final Features"
      ]
    },
    {
      "cell_type": "code",
      "execution_count": null,
      "metadata": {
        "colab": {
          "base_uri": "https://localhost:8080/"
        },
        "id": "BHV-QdjFeKbT",
        "outputId": "21d52a00-b42c-45a0-ecec-0eca33d7771e"
      },
      "outputs": [
        {
          "output_type": "execute_result",
          "data": {
            "text/plain": [
              "(21590, 13666)"
            ]
          },
          "metadata": {},
          "execution_count": 26
        }
      ],
      "source": [
        "labels = reviews_df['rating']\n",
        "# , reviews_df['number_of_words'], reviews_df['number_of_?!'], number_of_emoji\n",
        "features = pd.concat( [features_tdidf], axis=1)\n",
        "features.shape"
      ]
    },
    {
      "cell_type": "markdown",
      "metadata": {
        "id": "vhlWkObySQM2"
      },
      "source": [
        "## Split data"
      ]
    },
    {
      "cell_type": "code",
      "execution_count": null,
      "metadata": {
        "colab": {
          "base_uri": "https://localhost:8080/"
        },
        "id": "xI2pHtU1dnwK",
        "outputId": "525c7858-7e4e-4c47-aa27-c1729c7b1397"
      },
      "outputs": [
        {
          "output_type": "stream",
          "name": "stdout",
          "text": [
            "(16192, 13666) (5398, 13666) (16192,) (5398,)\n"
          ]
        }
      ],
      "source": [
        "from sklearn.model_selection import train_test_split\n",
        "\n",
        "x_train, x_test, y_train, y_test = train_test_split(features, labels, test_size=0.25)\n",
        "\n",
        "print(x_train.shape, x_test.shape, y_train.shape, y_test.shape)"
      ]
    },
    {
      "cell_type": "markdown",
      "metadata": {
        "id": "icVn7ROWSS0c"
      },
      "source": [
        "## Selection Method"
      ]
    },
    {
      "cell_type": "markdown",
      "metadata": {
        "id": "4h6p2KEsSXx5"
      },
      "source": [
        "### Random Forest"
      ]
    },
    {
      "cell_type": "code",
      "execution_count": null,
      "metadata": {
        "colab": {
          "base_uri": "https://localhost:8080/"
        },
        "id": "e0mWwn54nEga",
        "outputId": "8c081014-7381-4431-ba2f-14700339954a"
      },
      "outputs": [
        {
          "output_type": "stream",
          "name": "stdout",
          "text": [
            "0.8525379770285291\n"
          ]
        }
      ],
      "source": [
        "from sklearn.ensemble import RandomForestClassifier\n",
        "model = RandomForestClassifier(n_jobs=-1)\n",
        "model.fit(x_train, y_train)\n",
        "print(model.score(x_test, y_test))"
      ]
    },
    {
      "cell_type": "markdown",
      "metadata": {
        "id": "2x-dWXRxSduN"
      },
      "source": [
        "### Naive Bayes"
      ]
    },
    {
      "cell_type": "code",
      "execution_count": null,
      "metadata": {
        "colab": {
          "base_uri": "https://localhost:8080/"
        },
        "id": "-GWjHyV2EAMq",
        "outputId": "c8dbb990-9501-40a1-cbf4-af42ae2c0cf6"
      },
      "outputs": [
        {
          "output_type": "stream",
          "name": "stdout",
          "text": [
            "0.6798814375694702\n"
          ]
        }
      ],
      "source": [
        "from sklearn.naive_bayes import GaussianNB\n",
        "NBmodel = GaussianNB()\n",
        "NBmodel.fit(x_train, y_train)\n",
        "print(NBmodel.score(x_test, y_test))"
      ]
    },
    {
      "cell_type": "code",
      "execution_count": null,
      "metadata": {
        "colab": {
          "base_uri": "https://localhost:8080/"
        },
        "id": "aBXQfPdsF1b1",
        "outputId": "4d65eed3-8178-411e-f195-235493407550"
      },
      "outputs": [
        {
          "output_type": "stream",
          "name": "stdout",
          "text": [
            "0.8547610226009633\n"
          ]
        }
      ],
      "source": [
        "from sklearn.naive_bayes import MultinomialNB\n",
        "NBmodel = MultinomialNB()\n",
        "NBmodel.fit(x_train, y_train)\n",
        "print(NBmodel.score(x_test, y_test))"
      ]
    },
    {
      "cell_type": "markdown",
      "metadata": {
        "id": "ZhPo6HzhSmBY"
      },
      "source": [
        "### SVC"
      ]
    },
    {
      "cell_type": "code",
      "execution_count": null,
      "metadata": {
        "colab": {
          "base_uri": "https://localhost:8080/"
        },
        "id": "pgR7GDVkF-3s",
        "outputId": "4f7b57c2-9638-4f86-8258-f8892834f21f"
      },
      "outputs": [
        {
          "output_type": "stream",
          "name": "stdout",
          "text": [
            "0.867728788440163\n"
          ]
        }
      ],
      "source": [
        "from sklearn import model_selection, naive_bayes, svm\n",
        "\n",
        "SVM_model = svm.SVC(C=1.0, kernel='linear', degree=3, gamma='auto')\n",
        "SVM_model.fit(x_train, y_train)\n",
        "print(SVM_model.score(x_test, y_test))"
      ]
    }
  ],
  "metadata": {
    "colab": {
      "toc_visible": true,
      "provenance": [],
      "collapsed_sections": [
        "iVV2lwn7z6fj",
        "F9LcA8r23lkc",
        "7IZC6Dtd2Mwf",
        "D0pkealKmZzU",
        "4ff2RkXw22ld",
        "z_2lNMGD3CBy",
        "VX8C6T2W3dtJ",
        "C0xNqee03uzA",
        "xP9ZxStr34PD",
        "MUqRZOIn8Zov",
        "HO2oxfcIR8wB",
        "C5U7Jr84SA9Z",
        "b88LBSLSSEPK",
        "vhlWkObySQM2"
      ],
      "include_colab_link": true
    },
    "kernelspec": {
      "display_name": "Python 3",
      "name": "python3"
    },
    "language_info": {
      "name": "python"
    }
  },
  "nbformat": 4,
  "nbformat_minor": 0
}